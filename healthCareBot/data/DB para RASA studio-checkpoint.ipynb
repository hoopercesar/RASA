{
 "cells": [
  {
   "cell_type": "code",
   "execution_count": 1,
   "id": "a9d953de",
   "metadata": {},
   "outputs": [],
   "source": [
    "x= ['grande', 'mediana', 'mediano', 'pequeña', 'chica', 'pequeño']"
   ]
  },
  {
   "cell_type": "code",
   "execution_count": 1,
   "id": "29e8d8a6",
   "metadata": {},
   "outputs": [],
   "source": [
    "import pandas as pd\n",
    "import numpy as np\n",
    "import sqlite3\n",
    "\n",
    "from datetime import date\n",
    "\n",
    "# importar generador de ID\n",
    "import uuid\n",
    "\n",
    "# importar librería para hashear datos\n",
    "import hashlib\n",
    "\n",
    "import json\n",
    "from datetime import date, timedelta\n",
    "import datetime\n",
    "import time"
   ]
  },
  {
   "cell_type": "code",
   "execution_count": 80,
   "id": "400d5998",
   "metadata": {},
   "outputs": [],
   "source": [
    "from datetime import date\n",
    "\n",
    "def calcular_edad(fecha_nacimiento):\n",
    "    fecha_actual = date.today()\n",
    "    edad = fecha_actual.year - fecha_nacimiento.year\n",
    "    if fecha_actual.month < fecha_nacimiento.month:\n",
    "        edad -= 1\n",
    "    elif fecha_actual.month == fecha_nacimiento.month and fecha_actual.day < fecha_nacimiento.day:\n",
    "        edad -= 1\n",
    "    return edad"
   ]
  },
  {
   "cell_type": "code",
   "execution_count": 146,
   "id": "3844300e",
   "metadata": {},
   "outputs": [
    {
     "data": {
      "text/plain": [
       "46"
      ]
     },
     "execution_count": 146,
     "metadata": {},
     "output_type": "execute_result"
    }
   ],
   "source": [
    "calcular_edad(date(1976, 10, 13))"
   ]
  },
  {
   "cell_type": "code",
   "execution_count": null,
   "id": "13572907",
   "metadata": {},
   "outputs": [],
   "source": []
  },
  {
   "cell_type": "code",
   "execution_count": 2,
   "id": "04dd4dd0",
   "metadata": {},
   "outputs": [
    {
     "data": {
      "text/plain": [
       "'ad49ca7c1afed9b53ce1d5a5e66b0e03e972c4b61a8b052d482cb0cb5c79509e'"
      ]
     },
     "execution_count": 2,
     "metadata": {},
     "output_type": "execute_result"
    }
   ],
   "source": [
    "# función para hashear datos\n",
    "def generar_hash(cadena):\n",
    "    # Crear un objeto de hash utilizando el algoritmo SHA256\n",
    "    hasher = hashlib.sha256()\n",
    "\n",
    "    # Convertir la cadena en bytes y actualizar el objeto de hash\n",
    "    hasher.update(cadena.encode('utf-8'))\n",
    "\n",
    "    # Obtener el hash resultante en formato hexadecimal\n",
    "    hash_resultado = hasher.hexdigest()\n",
    "\n",
    "    return hash_resultado\n",
    "\n",
    "n = '13109915-0'\n",
    "n1 = '8291686-5'\n",
    "generar_hash(n1)"
   ]
  },
  {
   "cell_type": "code",
   "execution_count": 86,
   "id": "82004a98",
   "metadata": {},
   "outputs": [
    {
     "data": {
      "text/plain": [
       "'C:\\\\Users\\\\Cesar Hooper\\\\Documents\\\\STARTUP'"
      ]
     },
     "execution_count": 86,
     "metadata": {},
     "output_type": "execute_result"
    }
   ],
   "source": [
    "pwd"
   ]
  },
  {
   "cell_type": "code",
   "execution_count": 16,
   "id": "9b94e3dd",
   "metadata": {},
   "outputs": [],
   "source": [
    "# clase para guardar los síntomas de pacientes\n",
    "class MotivoIngreso(Paciente):\n",
    "    def __init__(self, userID, fiebre, vomitos, diarrea, dolor_muscular, dificultad_para_respirar, inapetencia, descripcion):\n",
    "        super().__init__(userID)\n",
    "        self.userID = userID\n",
    "        self.fiebre = fiebre\n",
    "        self.vomitos = vomitos\n",
    "        self.diarrea = diarrea\n",
    "        self.dolor_muscular = dolor_muscular\n",
    "        self.dificultad_para_respirar = dificultad_para_respirar\n",
    "        self.inapetencia = inapetencia\n",
    "        self.descripcion = descripcion\n",
    "        \n",
    "    def motivos(self):\n",
    "        return {self.userID : { 'fiebre': self.fiebre,\n",
    "                               'vomitos': self.vomitos,\n",
    "                               'diarrea': self.diarrea,\n",
    "                               'dolor_muscular': self.dolor_muscular,\n",
    "                               'dif.p.respirar': self.dificultad_para_respirar,\n",
    "                               'inapetencia': self.inapetencia, \n",
    "                               'descripcion_sintomas': self.descripcion}\n",
    "           \n",
    "        }\n",
    "            \n"
   ]
  },
  {
   "cell_type": "code",
   "execution_count": 62,
   "id": "612d5c5a",
   "metadata": {},
   "outputs": [],
   "source": [
    "# clase para guardar datos de pacientes. \n",
    "class Paciente:\n",
    "    def __init__(self, rut, nombre, apellido, fecha_nac,  \n",
    "                 fiebre, vomitos, diarrea, dolor_muscular, \n",
    "                 dificultad_para_respirar, inapetencia, descripcion):\n",
    "        '''Información ingreso de pacientes\n",
    "        Sintaxis: Paciente(rut, nombre, apellido, fecha_nac,  \n",
    "                 fiebre, vomitos, diarrea, dolor_muscular, \n",
    "                 dificultad_para_respirar, inapetencia, descripcion)\n",
    "                 \n",
    "                 ** Todos los parámetros son str\n",
    "        Métodos: \n",
    "            Paciente.infoPaciente() -> entrega datos personales\n",
    "            Paciente.motivos() -> entrega motivos de ingreso\n",
    "         \n",
    "        '''\n",
    "        # datos paciente\n",
    "        self.userID = self.generaID()\n",
    "        self.rut = rut\n",
    "        self.nombre = nombre\n",
    "        self.apellido = apellido\n",
    "        self.fecha_nac = fecha_nac\n",
    "        # datos sintomas paciente\n",
    "        self.fiebre = fiebre\n",
    "        self.vomitos = vomitos\n",
    "        self.diarrea = diarrea\n",
    "        self.dolor_muscular = dolor_muscular\n",
    "        self.dificultad_para_respirar = dificultad_para_respirar\n",
    "        self.inapetencia = inapetencia\n",
    "        self.descripcion = descripcion\n",
    "        \n",
    "    \n",
    "    @staticmethod\n",
    "    def generaID():\n",
    "        return str(uuid.uuid4())\n",
    "    \n",
    "    @staticmethod\n",
    "    def generar_hash(cadena):\n",
    "        # Crear un objeto de hash utilizando el algoritmo SHA256\n",
    "        hasher = hashlib.sha256()\n",
    "\n",
    "        # Convertir la cadena en bytes y actualizar el objeto de hash\n",
    "        hasher.update(cadena.encode('utf-8'))\n",
    "\n",
    "        # Obtener el hash resultante en formato hexadecimal\n",
    "        hash_resultado = hasher.hexdigest()\n",
    "\n",
    "        return hash_resultado\n",
    "    \n",
    "    @staticmethod\n",
    "    def calcular_edad(fecha_nacimiento):\n",
    "        fecha_nac = date()\n",
    "        fecha_actual = date.today()\n",
    "        edad = fecha_actual.year - fecha_nacimiento.year\n",
    "        if fecha_actual.month < fecha_nacimiento.month:\n",
    "            edad -= 1\n",
    "        elif fecha_actual.month == fecha_nacimiento.month and fecha_actual.day < fecha_nacimiento.day:\n",
    "            edad -= 1\n",
    "        return edad\n",
    "\n",
    " \n",
    "            \n",
    "    def infoPaciente(self):\n",
    "        return {self.generar_hash(self.rut): {'userID': self.userID,'nombre': self.nombre, 'apellido': self.apellido,\n",
    "                           'fecha_nac': self.fecha_nac}\n",
    "               }\n",
    "    \n",
    "    def motivos(self):\n",
    "        return {self.userID : { 'fiebre': self.fiebre,                          \n",
    "                           'vomitos': self.vomitos,\n",
    "                           'diarrea': self.diarrea,\n",
    "                           'dolor_muscular': self.dolor_muscular,\n",
    "                           'dif.p.respirar': self.dificultad_para_respirar,\n",
    "                           'inapetencia': self.inapetencia, \n",
    "                           'descripcion_sintomas': self.descripcion}\n",
    "           \n",
    "        }\n"
   ]
  },
  {
   "cell_type": "code",
   "execution_count": 122,
   "id": "87f0c7d6",
   "metadata": {},
   "outputs": [],
   "source": [
    "# función que extrae keys de los diccionarios\n",
    "def keylist(dicc):\n",
    "    keylist = []\n",
    "    for k in dicc:\n",
    "        keylist.append(k)\n",
    "    \n",
    "    return keylist"
   ]
  },
  {
   "cell_type": "code",
   "execution_count": 137,
   "id": "e9cb7313",
   "metadata": {},
   "outputs": [
    {
     "data": {
      "text/plain": [
       "[{'Gripe': {'antigripal': ['100mg', 4, 5]}},\n",
       " {'Gastroenteritis': {'Metronidazol': ['250mg', 3, 7],\n",
       "   'suero_hidratante': ['200ml', 24, 5]}},\n",
       " {'Enfermedad de Meniere': {'diazepam': ['100mg', 2, 20],\n",
       "   'glicopirrolato': ['200mg', 1, 30]}},\n",
       " {'Sinusitis': {'aerosol': ['1puff', 6, 7], 'Corticoides': ['100mg', 1, 5]},\n",
       "  'Gastritis': {'Omeprazol': ['20mg', 1, 30]}},\n",
       " {'Covid19': {'Nirmatrelvir ': ['300mg', 2, 5], 'Ritonavir': ['100mg', 2, 5]}},\n",
       " {'Virus Sincicial': {'Aerosol1': ['2puff', 6, 5],\n",
       "   'Aerosol2': ['1puff', 1, 5],\n",
       "   'Corticoides': ['2.5ml', 1, 7]}},\n",
       " {'Herpes_Zoster': {'Aciclovir': ['800mg', 5, 7]},\n",
       "  'Gastroenteritis_Bacteriana': {'Metronidazol': ['250mg', 3, 7],\n",
       "   'Loperamida': ['4mg', 4, 5]},\n",
       "  'Dermatitis': {'Fexofenadina': ['120mg', 1, 5]}}]"
      ]
     },
     "execution_count": 137,
     "metadata": {},
     "output_type": "execute_result"
    }
   ],
   "source": [
    "# diagnóticos y tratamientos\n",
    "# {'diagnostico': {'medicina': ['cantidad mg por dosis', 'frecuencia diaria (veces al dia)', \n",
    "# 'duración del tratamiento (en dias)']}}\n",
    "\n",
    "diag1 = {'Gripe': {'antigripal':['100mg', 4, 5]}}\n",
    "diag2 = {'Gastroenteritis': {'Metronidazol': ['250mg', 3, 7], 'suero_hidratante': ['200ml', 24, 5]}}\n",
    "diag3 = {'Enfermedad de Meniere':{'diazepam': ['100mg', 2, 20] , 'glicopirrolato':['200mg', 1, 30]}}\n",
    "diag4 = {'Sinusitis': {'aerosol' : ['1puff', 6, 7], 'Corticoides':['100mg', 1, 5]}, \n",
    "         'Gastritis':{'Omeprazol': ['20mg', 1, 30]}}\n",
    "diag5 = {'Covid19': {'Nirmatrelvir ':['300mg', 2, 5], 'Ritonavir':['100mg', 2, 5]}}\n",
    "diag6 = {'Virus Sincicial':{'Aerosol1': ['2puff', 6, 5], 'Aerosol2': ['1puff', 1, 5], 'Corticoides': ['2.5ml', 1, 7]}}\n",
    "diag7 = {'Herpes_Zoster': {'Aciclovir':['800mg', 5, 7]}, \n",
    "         'Gastroenteritis_Bacteriana': {'Metronidazol': ['250mg', 3, 7], 'Loperamida': ['4mg', 4, 5]}, \n",
    "         'Dermatitis': {'Fexofenadina': ['120mg', 1, 5]}}\n",
    "\n",
    "# lista con los diagnósticos\n",
    "diags = [diag1, diag2, diag3, diag4, diag5, diag6, diag7]\n",
    "dic = diag7\n",
    "# print(keylist(dic),' - ' ,dic[keylist(dic)[2]])\n",
    "diags"
   ]
  },
  {
   "cell_type": "code",
   "execution_count": 129,
   "id": "cc17b70b",
   "metadata": {},
   "outputs": [],
   "source": [
    "# breve descripción de motivo de ingreso de pacientes\n",
    "des1 = 'desmayo. fiebre. mareos'\n",
    "des2 = 'paciente vomito varias veces mientras esperaba atencion. deshidratacion'\n",
    "des3 = 'desorientacion y mareos. vision borrosa.'\n",
    "des4 = 'dolor al respirar. dolor de espalda. dolor en las orbitas de los ojos. nauseas'\n",
    "des5 = 'presenta cuadro de deshidratacion y dificultad para respirar. temperatura 38.7'\n",
    "des6 = 'paciente de 3 años sufrio convulsiones en casa por fiebre. llega casi desmayado. deshidratación'\n",
    "des7 = 'paciente tos, vómitos y pústulas en la piel'"
   ]
  },
  {
   "cell_type": "code",
   "execution_count": 102,
   "id": "e47ac08e",
   "metadata": {},
   "outputs": [],
   "source": [
    "# (fiebre, vomitos, diarrea, dolor_muscular, dificultad_para_respirar, inapetencia)  \n",
    "p1 = Paciente('8291686-5', 'Marion', 'Hooper', '11/05/1955', 'si', 'si', 'si', 'yes', 'yes', 'si', des1)\n",
    "p2 = Paciente('13280465-6', 'Felipe', 'Sánchez', '27/03/1980', 'no', 'si', 'si', 'si', 'no', 'no', des2)\n",
    "p3 = Paciente('17396829-9', 'Marion', 'Aguilar', '03/02/1990', 'si', 'no', 'no', 'si', 'si', 'no', des3)\n",
    "p4 = Paciente('12658439-3', 'Francesca', 'Meza', '05/02/1983', 'no', 'no', 'no', 'si', 'si', 'si', des4)\n",
    "p5 = Paciente('20502458-1', 'Fernanda', 'Delgado', '04/03/1992', 'si', 'si', 'no', 'no', 'no', 'si', des5)\n",
    "p6 = Paciente('41332344-4', 'Daniel', 'Hooper', '07/02/2020', 'no', 'si', 'no', 'no', 'no', 'si', des6)\n",
    "p7 = Paciente('13109915-0', 'César', 'Hooper', '13/10/1976', 'no', 'no', 'no', 'no', 'si', 'si', des7)"
   ]
  },
  {
   "cell_type": "code",
   "execution_count": 65,
   "id": "3ebe6883",
   "metadata": {},
   "outputs": [
    {
     "data": {
      "text/plain": [
       "{'d839c9d4274c20e6951ab67e90f22386a086c196b86e508669a01c7a952a6fba': {'userID': '10c36b79-725b-40bb-9eb0-a9fb20ec7bbb',\n",
       "  'nombre': 'Fernanda',\n",
       "  'apellido': 'Delgado',\n",
       "  'fecha_nac': '04/03/1992'}}"
      ]
     },
     "execution_count": 65,
     "metadata": {},
     "output_type": "execute_result"
    }
   ],
   "source": [
    "p5.infoPaciente()"
   ]
  },
  {
   "cell_type": "code",
   "execution_count": null,
   "id": "b27deef3",
   "metadata": {},
   "outputs": [],
   "source": []
  },
  {
   "cell_type": "code",
   "execution_count": 68,
   "id": "19be9e3b",
   "metadata": {},
   "outputs": [],
   "source": [
    "pacientes = [p1.infoPaciente(), p2.infoPaciente(), p3.infoPaciente(), p4.infoPaciente(), \n",
    "             p5.infoPaciente(), p6.infoPaciente(), p7.infoPaciente()] \n",
    "\n",
    "motivos = [p1.motivos(), p2.motivos(), p3.motivos(), p4.motivos(), p5.motivos(), p6.motivos(), p7.motivos()]"
   ]
  },
  {
   "cell_type": "code",
   "execution_count": null,
   "id": "9cca9389",
   "metadata": {},
   "outputs": [],
   "source": []
  },
  {
   "cell_type": "code",
   "execution_count": 69,
   "id": "ef044618",
   "metadata": {},
   "outputs": [
    {
     "data": {
      "text/plain": [
       "dict_values([{'userID': '4f8902c3-f680-4053-8334-c244b4db400c', 'nombre': 'Daniel', 'apellido': 'Hooper', 'fecha_nac': '07/02/2020'}])"
      ]
     },
     "execution_count": 69,
     "metadata": {},
     "output_type": "execute_result"
    }
   ],
   "source": [
    "rut1 = '13109915-0'\n",
    "rut2 = '8291686-5'\n",
    "rut3 = '2134567-g'\n",
    "rut4 = '41332344-4'\n",
    "\n",
    "paciente =  None\n",
    "for p in pacientes:\n",
    "#     print(p.keys(), generar_hash(rut2))\n",
    "    if generar_hash(rut4) in p.keys():    \n",
    "        paciente = p\n",
    "if (paciente == None): \n",
    "    print('paciente no existe. compruebe rut')\n",
    "        \n",
    "paciente.values()"
   ]
  },
  {
   "cell_type": "code",
   "execution_count": null,
   "id": "9b180bbd",
   "metadata": {},
   "outputs": [],
   "source": []
  },
  {
   "cell_type": "code",
   "execution_count": 70,
   "id": "4a79bd68",
   "metadata": {},
   "outputs": [],
   "source": [
    "# creación y llenado de DB. con la función json.dumps(array) se transforma el array en documento JSON.\n",
    "# sólo así se puede guardar en DB. para realizar la función inversa (pasar de JSON a array se usa json.loads(doc_json))\n",
    "conn = sqlite3.connect('datapacientes.db')\n",
    "c = conn.cursor()\n",
    "# insertar datos personales en tabla datospersonales de DB datapacientes\n",
    "c.execute(\"CREATE TABLE IF NOT EXISTS datospersonales (datos TEXT)\")\n",
    "for paciente in pacientes:\n",
    "    per = json.dumps(paciente)\n",
    "    c.execute(\"INSERT INTO datospersonales (datos) VALUES (?)\", (per, ))\n",
    "\n",
    "# insertar motivos de ingreso en tabla motivoingreso de DB datapacientes\n",
    "c.execute(\"CREATE TABLE IF NOT EXISTS motivoingreso (datos TEXT)\")\n",
    "for motivo in motivos:\n",
    "    mot = json.dumps(motivo)\n",
    "    c.execute('INSERT INTO motivoingreso (datos) VALUES (?)', (mot, ))\n",
    "    \n",
    "conn.commit()\n",
    "conn.close()"
   ]
  },
  {
   "cell_type": "code",
   "execution_count": 155,
   "id": "096ee593",
   "metadata": {},
   "outputs": [],
   "source": [
    "k = 0\n",
    "ids = []\n",
    "for motivo in motivos:\n",
    "    ids.append(keylist(motivo)[0])"
   ]
  },
  {
   "cell_type": "code",
   "execution_count": 169,
   "id": "0deca11e",
   "metadata": {},
   "outputs": [],
   "source": [
    "# Se agregan los diagnósticos y tratamientos de cada paciente. \n",
    "# en tabla tratamiento. esta tabla contiene el userID asignado a cada usuario.\n",
    "conn = sqlite3.connect('datapacientes.db')\n",
    "c = conn.cursor()\n",
    "# insertar datos personales en tabla datospersonales de DB datapacientes\n",
    "c.execute(\"CREATE TABLE IF NOT EXISTS tratamiento (userID VARCHAR(36) NOT NULL, diagnostico TEXT)\")\n",
    "k = 0\n",
    "for diag in diags:\n",
    "    per = json.dumps(diag)\n",
    "    userID = ids[k]\n",
    "    c.execute(\"INSERT INTO tratamiento (userID, diagnostico) VALUES (?, ?)\", (userID, per))\n",
    "    k += 1\n",
    "\n",
    "conn.commit()\n",
    "\n",
    "# Cerrar la conexión\n",
    "conn.close()\n",
    "\n"
   ]
  },
  {
   "cell_type": "code",
   "execution_count": 161,
   "id": "738db4e7",
   "metadata": {},
   "outputs": [
    {
     "data": {
      "text/plain": [
       "['de944e77-48a5-4c61-beb4-5387e38ed035',\n",
       " '8ffc98ee-287f-4675-b59e-2f42e2d3f258',\n",
       " '28c3e8c6-754d-44ff-a4e3-dec7cadd9d06',\n",
       " '4f1c4b2f-a608-4431-9187-89d46091b6b5',\n",
       " '10c36b79-725b-40bb-9eb0-a9fb20ec7bbb',\n",
       " '4f8902c3-f680-4053-8334-c244b4db400c',\n",
       " 'b336cc51-26a6-495f-959d-1daec75d90c0']"
      ]
     },
     "execution_count": 161,
     "metadata": {},
     "output_type": "execute_result"
    }
   ],
   "source": [
    "ids"
   ]
  },
  {
   "cell_type": "code",
   "execution_count": null,
   "id": "76553c10",
   "metadata": {},
   "outputs": [],
   "source": []
  },
  {
   "cell_type": "code",
   "execution_count": 111,
   "id": "3e653442",
   "metadata": {},
   "outputs": [
    {
     "data": {
      "text/plain": [
       "{'userID': '50365e35-d244-4ae3-980e-48dc5550ba4a',\n",
       " 'nombre': 'César',\n",
       " 'apellido': 'Hooper',\n",
       " 'fecha_nac': '13/10/1976',\n",
       " 'rut': '42dfd70c6572a9e49cc3c8beb45195876f4b9e9c2facf0777871fc10a90d74b6',\n",
       " 'motivo_ingreso': {'fiebre': 'no',\n",
       "  'vomitos': 'no',\n",
       "  'diarrea': 'no',\n",
       "  'dolor_muscular': 'no',\n",
       "  'dif.p.respirar': 'si',\n",
       "  'inapetencia': 'si',\n",
       "  'descripcion_sintomas': 'paciente tos, pobremas para respirar y dolor de espalda'}}"
      ]
     },
     "execution_count": 111,
     "metadata": {},
     "output_type": "execute_result"
    }
   ],
   "source": [
    "\n",
    "for dato in datos:\n",
    "    dat = json.loads(dato[0])\n",
    "    if generar_hash(rut1) in dat.keys():\n",
    "        paciente = dat[generar_hash(rut1)]\n",
    "#     print(dat)\n",
    "    \n",
    "u = list(dat.values())[0]\n",
    "# u['nombre'], u['apellido'], u['motivo_ingreso']\n",
    "paciente"
   ]
  },
  {
   "cell_type": "code",
   "execution_count": 112,
   "id": "82e18898",
   "metadata": {},
   "outputs": [],
   "source": [
    "## pocedimiento para crear una tabla en una DB\n",
    "#1 crea un DB\n",
    "conn = sqlite3.connect('datatest.db')\n",
    "c = conn.cursor()\n"
   ]
  },
  {
   "cell_type": "code",
   "execution_count": 122,
   "id": "b78c04d8",
   "metadata": {},
   "outputs": [
    {
     "data": {
      "text/plain": [
       "<sqlite3.Cursor at 0x29d955d6180>"
      ]
     },
     "execution_count": 122,
     "metadata": {},
     "output_type": "execute_result"
    }
   ],
   "source": [
    "#2 crea una tabla llamada horarios dentro del  DB datatest\n",
    "create_tabla_horarios = '''\n",
    "CREATE TABLE IF NOT EXISTS usuarios (\n",
    "    id TEXT,\n",
    "    nombre TEXT,\n",
    "    edad INTEGER\n",
    ");\n",
    "'''\n",
    "\n",
    "#3 SE EJECUTA LA CREACIÓN\n",
    "c.execute(create_tabla_horarios)"
   ]
  },
  {
   "cell_type": "code",
   "execution_count": 125,
   "id": "100110bd",
   "metadata": {},
   "outputs": [],
   "source": [
    "#4 Definir la consulta SQL para insertar datos en la tabla\n",
    "insert_data_query = '''\n",
    "INSERT INTO usuarios (id, nombre, edad)\n",
    "VALUES (?, ?, ?);\n",
    "'''\n",
    "# datos para ser insertados\n",
    "datos = [(1, 'Juan', 25), (2, 'María', 30), (3, 'Pedro', 28)]\n",
    "\n",
    "#5 Ejecutar la consulta SQL para insertar los datos\n",
    "c.executemany(insert_data_query, datos)\n",
    "\n",
    "#6 Confirmar los cambios y cerrar la conexión a la base de datos\n",
    "conn.commit()\n",
    "conn.close()"
   ]
  },
  {
   "cell_type": "markdown",
   "id": "b20c1f69",
   "metadata": {},
   "source": [
    "# Función que administra los horarios de las medicinas y la duración del tratamiento"
   ]
  },
  {
   "cell_type": "code",
   "execution_count": 37,
   "id": "2f4c92e3",
   "metadata": {},
   "outputs": [],
   "source": [
    "dias = ['Lunes', 'Martes', 'Miércoles', 'Jueves', 'Viernes', 'Sabado', 'Domingo']\n",
    "meses = ['Enero', 'Febrero', 'Marzo', 'Abril', 'Mayo', 'Junio', 'Julio', 'Julio', \n",
    "         'Agosto', 'Septiembre', 'Octubre', 'Noviembre', 'Diciembre']"
   ]
  },
  {
   "cell_type": "code",
   "execution_count": 88,
   "id": "3950e211",
   "metadata": {},
   "outputs": [
    {
     "ename": "IndentationError",
     "evalue": "expected an indented block (<ipython-input-88-48cc4f8dd31c>, line 10)",
     "output_type": "error",
     "traceback": [
      "\u001b[1;36m  File \u001b[1;32m\"<ipython-input-88-48cc4f8dd31c>\"\u001b[1;36m, line \u001b[1;32m10\u001b[0m\n\u001b[1;33m    print(diaFuturo - fechahoy)\u001b[0m\n\u001b[1;37m    ^\u001b[0m\n\u001b[1;31mIndentationError\u001b[0m\u001b[1;31m:\u001b[0m expected an indented block\n"
     ]
    }
   ],
   "source": [
    "fechahoy = datetime.datetime.now()  # Año, mes, día, hora, minuto, segundo\n",
    "\n",
    "# Extraer hora, minuto y día\n",
    "# diaHoy = fechahoy.day\n",
    "for k in range(1, 20):\n",
    "    incrementoDay = datetime.timedelta(hours=6*k)\n",
    "    diaFuturo = fechahoy + incrementoDay\n",
    "    if (diaFuturo == 1): \n",
    "        \n",
    "    print(diaFuturo - fechahoy)\n",
    "\n"
   ]
  },
  {
   "cell_type": "code",
   "execution_count": 161,
   "id": "60dfb323",
   "metadata": {},
   "outputs": [
    {
     "name": "stdout",
     "output_type": "stream",
     "text": [
      "El tratamiento Inicia 2023-07-27 21:31:20.190402\n",
      "El tratamiento Finaliza 2023-08-01 21:31:20.190402\n",
      "Hora de medicina 2023-07-28 05:31:20.190402\n",
      "Hora de medicina 2023-07-28 13:31:20.190402\n",
      "Hora de medicina 2023-07-28 21:31:20.190402\n",
      "Hora de medicina 2023-07-29 05:31:20.190402\n",
      "Hora de medicina 2023-07-29 13:31:20.190402\n",
      "Hora de medicina 2023-07-29 21:31:20.190402\n",
      "Hora de medicina 2023-07-30 05:31:20.190402\n",
      "Hora de medicina 2023-07-30 13:31:20.190402\n",
      "Hora de medicina 2023-07-30 21:31:20.190402\n",
      "Hora de medicina 2023-07-31 05:31:20.190402\n",
      "Hora de medicina 2023-07-31 13:31:20.190402\n",
      "Hora de medicina 2023-07-31 21:31:20.190402\n",
      "Hora de medicina 2023-08-01 05:31:20.190402\n",
      "Hora de medicina 2023-08-01 13:31:20.190402\n",
      "El tratamiento Finaliza ahora 2023-08-01 21:31:20.190402\n"
     ]
    }
   ],
   "source": [
    "fechaInicio = datetime.datetime.now() # dia de inicio Hoy a la hora actual\n",
    "fechaFinalizacion =datetime.timedelta(days=5)+fechaInicio\n",
    "mensaje = f\"El tratamiento finaliza el {fechaFinalizacion.day} de {meses[fechaFinalizacion.month]} a las {fechaFinalizacion.hour}:{fechaFinalizacion.minute}\"\n",
    "\n",
    "# print('TERMINA: ', mensaje)\n",
    "print('El tratamiento Inicia', fechaInicio)\n",
    "print('El tratamiento Finaliza', fechaFinalizacion)\n",
    "fin = True\n",
    "hour = 1\n",
    "while fin == True:\n",
    "# for hour in range(1, 35):\n",
    "    incremento = datetime.timedelta(hours=8*hour)\n",
    "    diaFuturo = fechaInicio + incremento\n",
    "    if (diaFuturo == fechaFinalizacion):\n",
    "        print('El tratamiento Finaliza ahora', diaFuturo)\n",
    "        fin = False\n",
    "    else:\n",
    "        print('Hora de medicina', diaFuturo)\n",
    "    hour += 1"
   ]
  },
  {
   "cell_type": "code",
   "execution_count": 8,
   "id": "977e8f26",
   "metadata": {},
   "outputs": [],
   "source": [
    "def creaHorarios(diaInicio, horaInicio, datosMedicina):\n",
    "    \"\"\"\n",
    "    diaInicio: 'year, month, day'\n",
    "    horaInicio: 'hh:mm'\n",
    "    datosMedicina: ['cantidadmg', frecuencia, duracion] \n",
    "    \"\"\"\n",
    "    # Configuración de inicio de las fechas de inicio y de finalización\n",
    "    # en formato datetime\n",
    "    # IMPORTANTE: al escribir código final, el paciente debe tener clariad\n",
    "    # de lo que significa que el tratamiento inicie a las 00:00 hrs. \n",
    "    # p.ej. si el tratamiento inicia a las 00 hra del 31 de julio, son las 0 horas del inicio del día 31\n",
    "    # y no las 00 hrs del inicio del día 01 de agosto. \n",
    "    \n",
    "    if diaInicio == 'ahora' and horaInicio == 'ahora':\n",
    "        fechaInicio = datetime.datetime.now()\n",
    "        fechaFinalizacion = datetime.timedelta(days=datosMedicina[2]) + fechaInicio\n",
    "    else:\n",
    "        inicio = [int(k) for k in diaInicio.split(',')]\n",
    "        hora = [int(k) for k in horaInicio.split(':')]\n",
    "        fechaInicio = datetime.datetime(inicio[0], inicio[1], inicio[2], hora[0], hora[1])\n",
    "        fechaFinalizacion = datetime.timedelta(days=datosMedicina[2]) + fechaInicio\n",
    "        \n",
    "    # inicio de conteo\n",
    "    # mensaje de finalización de tratamiento con esa medicina\n",
    "    mensajeInicio = f\"Inicio Tratamiento: {fechaInicio}\"\n",
    "    mensajeFinalizacion = f\"Finalizacion del Tratamiento: {fechaFinalizacion}\"\n",
    "#     print('Inicio de tratamiento', fechaInicio)\n",
    "#     print('El tratamiento con este medicamento finaliza: ', fechaFinalizacion)\n",
    "    print('------------------------------------------------')\n",
    "    \n",
    "    # periodo de las dosis\n",
    "    periodo = 24/datosMedicina[1]\n",
    "    print(periodo)\n",
    "    \n",
    "    #switch de encendido y apagado de la funcion\n",
    "    activo = True\n",
    "    counter = 1 # contador\n",
    "    horarios = []\n",
    "    \n",
    "    while (activo == True):\n",
    "        incremento = datetime.timedelta(hours=periodo*counter) #configurado c/2 min\n",
    "        diaFuturo = fechaInicio + incremento\n",
    "        horarios.append(diaFuturo.strftime(\"%Y-%m-%d %H:%M\"))\n",
    "        if (diaFuturo == fechaFinalizacion):\n",
    "            print('El tratamiento Finaliza ahora', diaFuturo)\n",
    "            activo = False\n",
    "        \n",
    "        counter += 1\n",
    "        \n",
    "        \n",
    "    return horarios\n"
   ]
  },
  {
   "cell_type": "code",
   "execution_count": 120,
   "id": "913e2903",
   "metadata": {},
   "outputs": [
    {
     "name": "stdout",
     "output_type": "stream",
     "text": [
      "------------------------------------------------\n",
      "4.0\n",
      "El tratamiento Finaliza ahora 2023-08-25 08:00:00\n"
     ]
    },
    {
     "data": {
      "text/plain": [
       "['2023-08-15 12:00',\n",
       " '2023-08-15 16:00',\n",
       " '2023-08-15 20:00',\n",
       " '2023-08-16 00:00',\n",
       " '2023-08-16 04:00',\n",
       " '2023-08-16 08:00',\n",
       " '2023-08-16 12:00',\n",
       " '2023-08-16 16:00',\n",
       " '2023-08-16 20:00',\n",
       " '2023-08-17 00:00',\n",
       " '2023-08-17 04:00',\n",
       " '2023-08-17 08:00',\n",
       " '2023-08-17 12:00',\n",
       " '2023-08-17 16:00',\n",
       " '2023-08-17 20:00',\n",
       " '2023-08-18 00:00',\n",
       " '2023-08-18 04:00',\n",
       " '2023-08-18 08:00',\n",
       " '2023-08-18 12:00',\n",
       " '2023-08-18 16:00',\n",
       " '2023-08-18 20:00',\n",
       " '2023-08-19 00:00',\n",
       " '2023-08-19 04:00',\n",
       " '2023-08-19 08:00',\n",
       " '2023-08-19 12:00',\n",
       " '2023-08-19 16:00',\n",
       " '2023-08-19 20:00',\n",
       " '2023-08-20 00:00',\n",
       " '2023-08-20 04:00',\n",
       " '2023-08-20 08:00',\n",
       " '2023-08-20 12:00',\n",
       " '2023-08-20 16:00',\n",
       " '2023-08-20 20:00',\n",
       " '2023-08-21 00:00',\n",
       " '2023-08-21 04:00',\n",
       " '2023-08-21 08:00',\n",
       " '2023-08-21 12:00',\n",
       " '2023-08-21 16:00',\n",
       " '2023-08-21 20:00',\n",
       " '2023-08-22 00:00',\n",
       " '2023-08-22 04:00',\n",
       " '2023-08-22 08:00',\n",
       " '2023-08-22 12:00',\n",
       " '2023-08-22 16:00',\n",
       " '2023-08-22 20:00',\n",
       " '2023-08-23 00:00',\n",
       " '2023-08-23 04:00',\n",
       " '2023-08-23 08:00',\n",
       " '2023-08-23 12:00',\n",
       " '2023-08-23 16:00',\n",
       " '2023-08-23 20:00',\n",
       " '2023-08-24 00:00',\n",
       " '2023-08-24 04:00',\n",
       " '2023-08-24 08:00',\n",
       " '2023-08-24 12:00',\n",
       " '2023-08-24 16:00',\n",
       " '2023-08-24 20:00',\n",
       " '2023-08-25 00:00',\n",
       " '2023-08-25 04:00',\n",
       " '2023-08-25 08:00']"
      ]
     },
     "execution_count": 120,
     "metadata": {},
     "output_type": "execute_result"
    }
   ],
   "source": [
    "horas = creaHorarios('2023, 08, 15', '08:00', ['200mg', 6, 10])\n",
    "horas"
   ]
  },
  {
   "cell_type": "code",
   "execution_count": 141,
   "id": "b0a4e187",
   "metadata": {
    "scrolled": false
   },
   "outputs": [
    {
     "data": {
      "text/plain": [
       "('2023-08-16', 2)"
      ]
     },
     "execution_count": 141,
     "metadata": {},
     "output_type": "execute_result"
    }
   ],
   "source": [
    "dateHoy = datetime.datetime(2023, 8, 16) #.strftime(\"%Y-%m-%d\")\n",
    "numeroDia = dateHoy.weekday()\n",
    "dateHoy.strftime(\"%Y-%m-%d\"), numeroDia"
   ]
  },
  {
   "cell_type": "code",
   "execution_count": 118,
   "id": "1b3e075b",
   "metadata": {},
   "outputs": [],
   "source": [
    "from collections import Counter\n",
    "def estiloFechas(horarios):\n",
    "    \n",
    "    dias = ['Lunes', 'Martes', 'Miércoles', 'Jueves', 'Viernes', 'Sabado', 'Domingo']\n",
    "    meses = ['Enero', 'Febrero', 'Marzo', 'Abril', 'Mayo', 'Junio', 'Julio', 'Julio', \n",
    "             'Agosto', 'Septiembre', 'Octubre', 'Noviembre', 'Diciembre']    \n",
    "    \n",
    "    date = datetime.datetime(2023, 8, 15)\n",
    "    diaSemana = dias[dateHoy.weekday()]\n",
    "    mesYear = meses[date.month()]\n",
    "    dateHoy = date.strftime(\"%Y-%m-%d\")\n",
    "    diaSemana = {}\n",
    "    horas = []\n",
    "    mensaje = f\"Hoy {diaSemana}, \"\n",
    "    for horario in horarios:\n",
    "        if horario.split(' ')[0] == dateHoy:\n",
    "            horas.append(horario.split(\" \")[1])\n",
    "\n",
    "    diaSemana[dateHoy] = horas\n",
    "    \n",
    "    return diaSemana   "
   ]
  },
  {
   "cell_type": "code",
   "execution_count": 136,
   "id": "b6dae78e",
   "metadata": {},
   "outputs": [
    {
     "data": {
      "text/plain": [
       "[2023, 8, 15]"
      ]
     },
     "execution_count": 136,
     "metadata": {},
     "output_type": "execute_result"
    }
   ],
   "source": [
    "d = estiloFechas(horas)\n",
    "h0 = horas[0]\n",
    "[int(k) for k in h0.split(' ')[0].split('-')]"
   ]
  },
  {
   "cell_type": "code",
   "execution_count": 190,
   "id": "296e3772",
   "metadata": {},
   "outputs": [
    {
     "data": {
      "text/plain": [
       "datetime.datetime(2019, 7, 29, 8, 0)"
      ]
     },
     "execution_count": 190,
     "metadata": {},
     "output_type": "execute_result"
    }
   ],
   "source": [
    "inicio = '2019, 07, 29'\n",
    "horas = '08:00'\n",
    "hora =[int(k) for k in horas.split(':')]\n",
    "\n",
    "inicio = [int(k) for k in inicio.split(',')]\n",
    "datetime.datetime(inicio[0], inicio[1], inicio[2], hora[0], hora[1])"
   ]
  },
  {
   "cell_type": "code",
   "execution_count": 394,
   "id": "9612f3c4",
   "metadata": {},
   "outputs": [],
   "source": [
    "def reloj():\n",
    "    hora = datetime.datetime.now().strftime(\"%Y-%d-%m %H:%M\")\n",
    "    time.sleep(60)\n",
    "    return hora"
   ]
  },
  {
   "cell_type": "code",
   "execution_count": 396,
   "id": "3b5e55fc",
   "metadata": {},
   "outputs": [
    {
     "name": "stdout",
     "output_type": "stream",
     "text": [
      "2023-29-07 19:56 Debes tomar Medicina\n",
      "2023-29-07 19:57 Debes tomar Medicina\n",
      "2023-29-07 19:58 Debes tomar Medicina\n",
      "2023-29-07 19:59 Debes tomar Medicina\n",
      "2023-29-07 20:00 Debes tomar Medicina\n",
      "2023-29-07 20:01 Debes tomar Medicina\n",
      "2023-29-07 20:02 Debes tomar Medicina\n",
      "2023-29-07 20:03 Debes tomar Medicina\n",
      "2023-29-07 20:04 Debes tomar Medicina\n",
      "2023-29-07 20:05 Debes tomar Medicina\n"
     ]
    }
   ],
   "source": [
    "activo =  True\n",
    "for t in range(0, 10):\n",
    "    hora = reloj()\n",
    "#     print('hora', hora)\n",
    "    \n",
    "    if hora in horas:\n",
    "        mensaje = f\"{hora} Debes tomar Medicina\"\n",
    "        print(mensaje)\n",
    "        \n",
    "        \n",
    "    "
   ]
  },
  {
   "cell_type": "code",
   "execution_count": 357,
   "id": "52e4b70c",
   "metadata": {},
   "outputs": [],
   "source": [
    "import time\n",
    "\n",
    "def horaAlMinuto(tiempo_duracion):\n",
    "    '''tiempo_duracion: 1 -> la salida sera cada 1 segundo\n",
    "       tiempo_duracion: 60 -> salida sera cada 1 minuto. etc \n",
    "       Esta funcion acepta tiempo fraccionario\n",
    "    '''\n",
    "    mensajeHoraMedicina = \"\"\n",
    "    for i in range(tiempo_duracion, 0, -1):\n",
    "        \n",
    "        horaNow = datetime.datetime.now().strftime(\"%Y-%d-%m %H:%M\")\n",
    "        print(f\"Tiempo restante: {i} segundos\", horaNow)\n",
    "        if horaNow in horas:\n",
    "            mensajeHoraMedicina = f\"{horaNow} Hora de la medicina!\"\n",
    "#             print(mensajeHoraMedicina)\n",
    "        time.sleep(60)\n",
    "    return mensajeHoraMedicina\n",
    "\n",
    "#     print(\"¡Tiempo terminado!\")\n",
    "\n"
   ]
  },
  {
   "cell_type": "code",
   "execution_count": 358,
   "id": "cb28ece1",
   "metadata": {},
   "outputs": [
    {
     "name": "stdout",
     "output_type": "stream",
     "text": [
      "Tiempo restante: 10 segundos 2023-29-07 17:43\n",
      "Tiempo restante: 9 segundos 2023-29-07 17:44\n",
      "Tiempo restante: 8 segundos 2023-29-07 17:45\n",
      "Tiempo restante: 7 segundos 2023-29-07 17:46\n",
      "Tiempo restante: 6 segundos 2023-29-07 17:47\n",
      "Tiempo restante: 5 segundos 2023-29-07 17:48\n",
      "Tiempo restante: 4 segundos 2023-29-07 17:49\n",
      "Tiempo restante: 3 segundos 2023-29-07 17:50\n"
     ]
    },
    {
     "ename": "KeyboardInterrupt",
     "evalue": "",
     "output_type": "error",
     "traceback": [
      "\u001b[1;31m---------------------------------------------------------------------------\u001b[0m",
      "\u001b[1;31mKeyboardInterrupt\u001b[0m                         Traceback (most recent call last)",
      "\u001b[1;32m<ipython-input-358-532b496907a6>\u001b[0m in \u001b[0;36m<module>\u001b[1;34m\u001b[0m\n\u001b[0;32m      1\u001b[0m \u001b[1;31m# Ejemplo de uso\u001b[0m\u001b[1;33m\u001b[0m\u001b[1;33m\u001b[0m\u001b[1;33m\u001b[0m\u001b[0m\n\u001b[0;32m      2\u001b[0m \u001b[0mtiempo_duracion\u001b[0m \u001b[1;33m=\u001b[0m \u001b[1;36m10\u001b[0m\u001b[1;33m\u001b[0m\u001b[1;33m\u001b[0m\u001b[0m\n\u001b[1;32m----> 3\u001b[1;33m \u001b[1;32mif\u001b[0m \u001b[0mhoraAlMinuto\u001b[0m\u001b[1;33m(\u001b[0m\u001b[0mtiempo_duracion\u001b[0m\u001b[1;33m)\u001b[0m\u001b[1;33m:\u001b[0m \u001b[0mprint\u001b[0m\u001b[1;33m(\u001b[0m\u001b[1;34m'hay algo'\u001b[0m\u001b[1;33m)\u001b[0m\u001b[1;33m\u001b[0m\u001b[1;33m\u001b[0m\u001b[0m\n\u001b[0m",
      "\u001b[1;32m<ipython-input-357-006327ecfe2d>\u001b[0m in \u001b[0;36mhoraAlMinuto\u001b[1;34m(tiempo_duracion)\u001b[0m\n\u001b[0;32m     14\u001b[0m             \u001b[0mmensajeHoraMedicina\u001b[0m \u001b[1;33m=\u001b[0m \u001b[1;34mf\"{horaNow} Hora de la medicina!\"\u001b[0m\u001b[1;33m\u001b[0m\u001b[1;33m\u001b[0m\u001b[0m\n\u001b[0;32m     15\u001b[0m \u001b[1;31m#             print(mensajeHoraMedicina)\u001b[0m\u001b[1;33m\u001b[0m\u001b[1;33m\u001b[0m\u001b[1;33m\u001b[0m\u001b[0m\n\u001b[1;32m---> 16\u001b[1;33m         \u001b[0mtime\u001b[0m\u001b[1;33m.\u001b[0m\u001b[0msleep\u001b[0m\u001b[1;33m(\u001b[0m\u001b[1;36m60\u001b[0m\u001b[1;33m)\u001b[0m\u001b[1;33m\u001b[0m\u001b[1;33m\u001b[0m\u001b[0m\n\u001b[0m\u001b[0;32m     17\u001b[0m     \u001b[1;32mreturn\u001b[0m \u001b[0mmensajeHoraMedicina\u001b[0m\u001b[1;33m\u001b[0m\u001b[1;33m\u001b[0m\u001b[0m\n\u001b[0;32m     18\u001b[0m \u001b[1;33m\u001b[0m\u001b[0m\n",
      "\u001b[1;31mKeyboardInterrupt\u001b[0m: "
     ]
    }
   ],
   "source": [
    "# Ejemplo de uso\n",
    "tiempo_duracion = 10\n",
    "if horaAlMinuto(tiempo_duracion): print('hay algo')"
   ]
  },
  {
   "cell_type": "code",
   "execution_count": 290,
   "id": "08da9570",
   "metadata": {},
   "outputs": [
    {
     "data": {
      "text/plain": [
       "datetime.datetime(2023, 7, 29, 11, 27, 0, 731782)"
      ]
     },
     "execution_count": 290,
     "metadata": {},
     "output_type": "execute_result"
    }
   ],
   "source": [
    "datetime.datetime.now()"
   ]
  },
  {
   "cell_type": "code",
   "execution_count": 295,
   "id": "047dd372",
   "metadata": {},
   "outputs": [
    {
     "name": "stdout",
     "output_type": "stream",
     "text": [
      "Hora actual: 12:18\n"
     ]
    },
    {
     "ename": "KeyboardInterrupt",
     "evalue": "",
     "output_type": "error",
     "traceback": [
      "\u001b[1;31m---------------------------------------------------------------------------\u001b[0m",
      "\u001b[1;31mKeyboardInterrupt\u001b[0m                         Traceback (most recent call last)",
      "\u001b[1;32m<ipython-input-295-383b8798f4a2>\u001b[0m in \u001b[0;36m<module>\u001b[1;34m\u001b[0m\n\u001b[0;32m      6\u001b[0m \u001b[1;33m\u001b[0m\u001b[0m\n\u001b[0;32m      7\u001b[0m \u001b[1;31m# Ejemplo de uso\u001b[0m\u001b[1;33m\u001b[0m\u001b[1;33m\u001b[0m\u001b[1;33m\u001b[0m\u001b[0m\n\u001b[1;32m----> 8\u001b[1;33m \u001b[0mmostrar_hora_cada_minuto\u001b[0m\u001b[1;33m(\u001b[0m\u001b[1;33m)\u001b[0m\u001b[1;33m\u001b[0m\u001b[1;33m\u001b[0m\u001b[0m\n\u001b[0m",
      "\u001b[1;32m<ipython-input-295-383b8798f4a2>\u001b[0m in \u001b[0;36mmostrar_hora_cada_minuto\u001b[1;34m()\u001b[0m\n\u001b[0;32m      3\u001b[0m         \u001b[0mhora_actual\u001b[0m \u001b[1;33m=\u001b[0m \u001b[0mtime\u001b[0m\u001b[1;33m.\u001b[0m\u001b[0mstrftime\u001b[0m\u001b[1;33m(\u001b[0m\u001b[1;34m\"%H:%M\"\u001b[0m\u001b[1;33m)\u001b[0m\u001b[1;33m\u001b[0m\u001b[1;33m\u001b[0m\u001b[0m\n\u001b[0;32m      4\u001b[0m         \u001b[0mprint\u001b[0m\u001b[1;33m(\u001b[0m\u001b[1;34m\"Hora actual:\"\u001b[0m\u001b[1;33m,\u001b[0m \u001b[0mhora_actual\u001b[0m\u001b[1;33m)\u001b[0m\u001b[1;33m\u001b[0m\u001b[1;33m\u001b[0m\u001b[0m\n\u001b[1;32m----> 5\u001b[1;33m         \u001b[0mtime\u001b[0m\u001b[1;33m.\u001b[0m\u001b[0msleep\u001b[0m\u001b[1;33m(\u001b[0m\u001b[1;36m60\u001b[0m\u001b[1;33m)\u001b[0m  \u001b[1;31m# Pausa de 1 minuto (60 segundos)\u001b[0m\u001b[1;33m\u001b[0m\u001b[1;33m\u001b[0m\u001b[0m\n\u001b[0m\u001b[0;32m      6\u001b[0m \u001b[1;33m\u001b[0m\u001b[0m\n\u001b[0;32m      7\u001b[0m \u001b[1;31m# Ejemplo de uso\u001b[0m\u001b[1;33m\u001b[0m\u001b[1;33m\u001b[0m\u001b[1;33m\u001b[0m\u001b[0m\n",
      "\u001b[1;31mKeyboardInterrupt\u001b[0m: "
     ]
    }
   ],
   "source": [
    "def mostrar_hora_cada_minuto():\n",
    "    while True:\n",
    "        hora_actual = time.strftime(\"%H:%M\")\n",
    "        print(\"Hora actual:\", hora_actual)\n",
    "        time.sleep(60)  # Pausa de 1 minuto (60 segundos)\n",
    "\n",
    "# Ejemplo de uso\n",
    "mostrar_hora_cada_minuto()"
   ]
  },
  {
   "cell_type": "code",
   "execution_count": 306,
   "id": "55cb8b5a",
   "metadata": {},
   "outputs": [
    {
     "data": {
      "text/plain": [
       "'2023-29-07 12:21'"
      ]
     },
     "execution_count": 306,
     "metadata": {},
     "output_type": "execute_result"
    }
   ],
   "source": [
    "datetime.datetime.now().strftime(\"%Y-%d-%m %H:%M\")"
   ]
  },
  {
   "cell_type": "code",
   "execution_count": 387,
   "id": "c65cc200",
   "metadata": {},
   "outputs": [],
   "source": [
    "import time\n",
    "\n",
    "def funcion_con_retorno_y_sleep():\n",
    "    hora = datetime.datetime.now().strftime('%Y-%m-%d||%H:%M:%S')\n",
    "    time.sleep(30)  # Pausa de 5 segundos\n",
    "    \n",
    "    return hora"
   ]
  },
  {
   "cell_type": "code",
   "execution_count": 388,
   "id": "c58166c6",
   "metadata": {},
   "outputs": [
    {
     "name": "stdout",
     "output_type": "stream",
     "text": [
      "Resultado: 2023-07-29||18:48:08\n",
      "Resultado: 2023-07-29||18:48:38\n",
      "Resultado: 2023-07-29||18:49:08\n",
      "Resultado: 2023-07-29||18:49:38\n",
      "Resultado: 2023-07-29||18:50:08\n",
      "Resultado: 2023-07-29||18:50:38\n",
      "Resultado: 2023-07-29||18:51:08\n",
      "Resultado: 2023-07-29||18:51:38\n",
      "Resultado: 2023-07-29||18:52:08\n",
      "Resultado: 2023-07-29||18:52:38\n"
     ]
    }
   ],
   "source": [
    "for k in range(10):\n",
    "    resultado = funcion_con_retorno_y_sleep()\n",
    "    print(\"Resultado:\", resultado)"
   ]
  },
  {
   "cell_type": "code",
   "execution_count": 1,
   "id": "800d3125",
   "metadata": {},
   "outputs": [],
   "source": [
    "fecha = '13/10/2025'"
   ]
  },
  {
   "cell_type": "code",
   "execution_count": 7,
   "id": "84aea6ee",
   "metadata": {},
   "outputs": [
    {
     "data": {
      "text/plain": [
       "'2025,10,13'"
      ]
     },
     "execution_count": 7,
     "metadata": {},
     "output_type": "execute_result"
    }
   ],
   "source": [
    "','.join([k for k in fecha.split('/')[::-1]])"
   ]
  },
  {
   "cell_type": "code",
   "execution_count": null,
   "id": "5cccd880",
   "metadata": {},
   "outputs": [],
   "source": []
  }
 ],
 "metadata": {
  "kernelspec": {
   "display_name": "Python 3",
   "language": "python",
   "name": "python3"
  },
  "language_info": {
   "codemirror_mode": {
    "name": "ipython",
    "version": 3
   },
   "file_extension": ".py",
   "mimetype": "text/x-python",
   "name": "python",
   "nbconvert_exporter": "python",
   "pygments_lexer": "ipython3",
   "version": "3.8.8"
  }
 },
 "nbformat": 4,
 "nbformat_minor": 5
}
