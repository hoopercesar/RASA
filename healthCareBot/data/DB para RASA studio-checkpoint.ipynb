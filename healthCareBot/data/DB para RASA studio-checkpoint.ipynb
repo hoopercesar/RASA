{
 "cells": [
  {
   "cell_type": "code",
   "execution_count": 1,
   "id": "a9d953de",
   "metadata": {},
   "outputs": [],
   "source": [
    "x= ['grande', 'mediana', 'mediano', 'pequeña', 'chica', 'pequeño']"
   ]
  },
  {
   "cell_type": "code",
   "execution_count": 77,
   "id": "29e8d8a6",
   "metadata": {},
   "outputs": [],
   "source": [
    "import pandas as pd\n",
    "import numpy as np\n",
    "import sqlite3\n",
    "\n",
    "from datetime import date\n",
    "\n",
    "# importar generador de ID\n",
    "import uuid\n",
    "\n",
    "# importar librería para hashear datos\n",
    "import hashlib\n",
    "\n",
    "import json"
   ]
  },
  {
   "cell_type": "code",
   "execution_count": 80,
   "id": "400d5998",
   "metadata": {},
   "outputs": [],
   "source": [
    "from datetime import date\n",
    "\n",
    "def calcular_edad(fecha_nacimiento):\n",
    "    fecha_actual = date.today()\n",
    "    edad = fecha_actual.year - fecha_nacimiento.year\n",
    "    if fecha_actual.month < fecha_nacimiento.month:\n",
    "        edad -= 1\n",
    "    elif fecha_actual.month == fecha_nacimiento.month and fecha_actual.day < fecha_nacimiento.day:\n",
    "        edad -= 1\n",
    "    return edad"
   ]
  },
  {
   "cell_type": "code",
   "execution_count": 85,
   "id": "b8b115b4",
   "metadata": {},
   "outputs": [
    {
     "ename": "TypeError",
     "evalue": "an integer is required (got type list)",
     "output_type": "error",
     "traceback": [
      "\u001b[1;31m---------------------------------------------------------------------------\u001b[0m",
      "\u001b[1;31mTypeError\u001b[0m                                 Traceback (most recent call last)",
      "\u001b[1;32m<ipython-input-85-891fb80bb5fd>\u001b[0m in \u001b[0;36m<module>\u001b[1;34m\u001b[0m\n\u001b[1;32m----> 1\u001b[1;33m \u001b[0mcalcular_edad\u001b[0m\u001b[1;33m(\u001b[0m\u001b[0mdate\u001b[0m\u001b[1;33m(\u001b[0m\u001b[1;33m[\u001b[0m\u001b[1;36m1976\u001b[0m\u001b[1;33m,\u001b[0m \u001b[1;36m10\u001b[0m\u001b[1;33m,\u001b[0m \u001b[1;36m13\u001b[0m\u001b[1;33m]\u001b[0m\u001b[1;33m)\u001b[0m\u001b[1;33m)\u001b[0m\u001b[1;33m\u001b[0m\u001b[1;33m\u001b[0m\u001b[0m\n\u001b[0m",
      "\u001b[1;31mTypeError\u001b[0m: an integer is required (got type list)"
     ]
    }
   ],
   "source": [
    "calcular_edad(date(1976, 10, 13))"
   ]
  },
  {
   "cell_type": "code",
   "execution_count": 73,
   "id": "13572907",
   "metadata": {},
   "outputs": [
    {
     "ename": "TypeError",
     "evalue": "'module' object is not callable",
     "output_type": "error",
     "traceback": [
      "\u001b[1;31m---------------------------------------------------------------------------\u001b[0m",
      "\u001b[1;31mTypeError\u001b[0m                                 Traceback (most recent call last)",
      "\u001b[1;32m<ipython-input-73-4938c946bd62>\u001b[0m in \u001b[0;36m<module>\u001b[1;34m\u001b[0m\n\u001b[0;32m      1\u001b[0m \u001b[1;31m# Ejemplo de uso\u001b[0m\u001b[1;33m\u001b[0m\u001b[1;33m\u001b[0m\u001b[1;33m\u001b[0m\u001b[0m\n\u001b[1;32m----> 2\u001b[1;33m \u001b[0mfecha_nacimiento\u001b[0m \u001b[1;33m=\u001b[0m \u001b[0mdatetime\u001b[0m\u001b[1;33m(\u001b[0m\u001b[1;36m1990\u001b[0m\u001b[1;33m,\u001b[0m \u001b[1;36m3\u001b[0m\u001b[1;33m,\u001b[0m \u001b[1;36m4\u001b[0m\u001b[1;33m)\u001b[0m  \u001b[1;31m# Supongamos que la fecha de nacimiento es el 15 de mayo de 1990\u001b[0m\u001b[1;33m\u001b[0m\u001b[1;33m\u001b[0m\u001b[0m\n\u001b[0m\u001b[0;32m      3\u001b[0m \u001b[0medad\u001b[0m \u001b[1;33m=\u001b[0m \u001b[0mcalcular_edad\u001b[0m\u001b[1;33m(\u001b[0m\u001b[0mfecha_nacimiento\u001b[0m\u001b[1;33m)\u001b[0m\u001b[1;33m\u001b[0m\u001b[1;33m\u001b[0m\u001b[0m\n\u001b[0;32m      4\u001b[0m \u001b[0mprint\u001b[0m\u001b[1;33m(\u001b[0m\u001b[1;34mf\"La edad es: {edad} años\"\u001b[0m\u001b[1;33m)\u001b[0m\u001b[1;33m\u001b[0m\u001b[1;33m\u001b[0m\u001b[0m\n",
      "\u001b[1;31mTypeError\u001b[0m: 'module' object is not callable"
     ]
    }
   ],
   "source": [
    "# Ejemplo de uso\n",
    "fecha_nacimiento = datetime(1990, 3, 4)  # Supongamos que la fecha de nacimiento es el 15 de mayo de 1990\n",
    "edad = calcular_edad(fecha_nacimiento)\n",
    "print(f\"La edad es: {edad} años\")"
   ]
  },
  {
   "cell_type": "code",
   "execution_count": 2,
   "id": "04dd4dd0",
   "metadata": {},
   "outputs": [
    {
     "data": {
      "text/plain": [
       "'ad49ca7c1afed9b53ce1d5a5e66b0e03e972c4b61a8b052d482cb0cb5c79509e'"
      ]
     },
     "execution_count": 2,
     "metadata": {},
     "output_type": "execute_result"
    }
   ],
   "source": [
    "# función para hashear datos\n",
    "def generar_hash(cadena):\n",
    "    # Crear un objeto de hash utilizando el algoritmo SHA256\n",
    "    hasher = hashlib.sha256()\n",
    "\n",
    "    # Convertir la cadena en bytes y actualizar el objeto de hash\n",
    "    hasher.update(cadena.encode('utf-8'))\n",
    "\n",
    "    # Obtener el hash resultante en formato hexadecimal\n",
    "    hash_resultado = hasher.hexdigest()\n",
    "\n",
    "    return hash_resultado\n",
    "\n",
    "n = '13109915-0'\n",
    "n1 = '8291686-5'\n",
    "generar_hash(n1)"
   ]
  },
  {
   "cell_type": "code",
   "execution_count": 86,
   "id": "82004a98",
   "metadata": {},
   "outputs": [
    {
     "data": {
      "text/plain": [
       "'C:\\\\Users\\\\Cesar Hooper\\\\Documents\\\\STARTUP'"
      ]
     },
     "execution_count": 86,
     "metadata": {},
     "output_type": "execute_result"
    }
   ],
   "source": [
    "pwd"
   ]
  },
  {
   "cell_type": "code",
   "execution_count": 16,
   "id": "9b94e3dd",
   "metadata": {},
   "outputs": [],
   "source": [
    "# clase para guardar los síntomas de pacientes\n",
    "class MotivoIngreso(Paciente):\n",
    "    def __init__(self, userID, fiebre, vomitos, diarrea, dolor_muscular, dificultad_para_respirar, inapetencia, descripcion):\n",
    "        super().__init__(userID)\n",
    "        self.userID = userID\n",
    "        self.fiebre = fiebre\n",
    "        self.vomitos = vomitos\n",
    "        self.diarrea = diarrea\n",
    "        self.dolor_muscular = dolor_muscular\n",
    "        self.dificultad_para_respirar = dificultad_para_respirar\n",
    "        self.inapetencia = inapetencia\n",
    "        self.descripcion = descripcion\n",
    "        \n",
    "    def motivos(self):\n",
    "        return {self.userID : { 'fiebre': self.fiebre,\n",
    "                               'vomitos': self.vomitos,\n",
    "                               'diarrea': self.diarrea,\n",
    "                               'dolor_muscular': self.dolor_muscular,\n",
    "                               'dif.p.respirar': self.dificultad_para_respirar,\n",
    "                               'inapetencia': self.inapetencia, \n",
    "                               'descripcion_sintomas': self.descripcion}\n",
    "           \n",
    "        }\n",
    "            \n"
   ]
  },
  {
   "cell_type": "code",
   "execution_count": 62,
   "id": "612d5c5a",
   "metadata": {},
   "outputs": [],
   "source": [
    "# clase para guardar datos de pacientes. \n",
    "class Paciente:\n",
    "    def __init__(self, rut, nombre, apellido, fecha_nac,  \n",
    "                 fiebre, vomitos, diarrea, dolor_muscular, \n",
    "                 dificultad_para_respirar, inapetencia, descripcion):\n",
    "        '''Información ingreso de pacientes\n",
    "        Sintaxis: Paciente(rut, nombre, apellido, fecha_nac,  \n",
    "                 fiebre, vomitos, diarrea, dolor_muscular, \n",
    "                 dificultad_para_respirar, inapetencia, descripcion)\n",
    "                 \n",
    "                 ** Todos los parámetros son str\n",
    "        Métodos: \n",
    "            Paciente.infoPaciente() -> entrega datos personales\n",
    "            Paciente.motivos() -> entrega motivos de ingreso\n",
    "         \n",
    "        '''\n",
    "        # datos paciente\n",
    "        self.userID = self.generaID()\n",
    "        self.rut = rut\n",
    "        self.nombre = nombre\n",
    "        self.apellido = apellido\n",
    "        self.fecha_nac = fecha_nac\n",
    "        # datos sintomas paciente\n",
    "        self.fiebre = fiebre\n",
    "        self.vomitos = vomitos\n",
    "        self.diarrea = diarrea\n",
    "        self.dolor_muscular = dolor_muscular\n",
    "        self.dificultad_para_respirar = dificultad_para_respirar\n",
    "        self.inapetencia = inapetencia\n",
    "        self.descripcion = descripcion\n",
    "        \n",
    "    \n",
    "    @staticmethod\n",
    "    def generaID():\n",
    "        return str(uuid.uuid4())\n",
    "    \n",
    "    @staticmethod\n",
    "    def generar_hash(cadena):\n",
    "        # Crear un objeto de hash utilizando el algoritmo SHA256\n",
    "        hasher = hashlib.sha256()\n",
    "\n",
    "        # Convertir la cadena en bytes y actualizar el objeto de hash\n",
    "        hasher.update(cadena.encode('utf-8'))\n",
    "\n",
    "        # Obtener el hash resultante en formato hexadecimal\n",
    "        hash_resultado = hasher.hexdigest()\n",
    "\n",
    "        return hash_resultado\n",
    "    \n",
    "    @staticmethod\n",
    "    def calcular_edad(fecha_nacimiento):\n",
    "        fecha_nac = date()\n",
    "        fecha_actual = date.today()\n",
    "        edad = fecha_actual.year - fecha_nacimiento.year\n",
    "        if fecha_actual.month < fecha_nacimiento.month:\n",
    "            edad -= 1\n",
    "        elif fecha_actual.month == fecha_nacimiento.month and fecha_actual.day < fecha_nacimiento.day:\n",
    "            edad -= 1\n",
    "        return edad\n",
    "\n",
    " \n",
    "            \n",
    "    def infoPaciente(self):\n",
    "        return {self.generar_hash(self.rut): {'userID': self.userID,'nombre': self.nombre, 'apellido': self.apellido,\n",
    "                           'fecha_nac': self.fecha_nac}\n",
    "               }\n",
    "    \n",
    "    def motivos(self):\n",
    "        return {self.userID : { 'fiebre': self.fiebre,                          \n",
    "                           'vomitos': self.vomitos,\n",
    "                           'diarrea': self.diarrea,\n",
    "                           'dolor_muscular': self.dolor_muscular,\n",
    "                           'dif.p.respirar': self.dificultad_para_respirar,\n",
    "                           'inapetencia': self.inapetencia, \n",
    "                           'descripcion_sintomas': self.descripcion}\n",
    "           \n",
    "        }\n"
   ]
  },
  {
   "cell_type": "code",
   "execution_count": 110,
   "id": "1d6a71b1",
   "metadata": {},
   "outputs": [],
   "source": [
    "# función que extrae keys de los diccionarios\n",
    "def keylist(dicc):\n",
    "    keylist = []\n",
    "    for k in dicc:\n",
    "        keylist.append(k)\n",
    "    \n",
    "    return keylist"
   ]
  },
  {
   "cell_type": "code",
   "execution_count": 137,
   "id": "b4e7a6c2",
   "metadata": {},
   "outputs": [
    {
     "data": {
      "text/plain": [
       "[{'Gripe': {'antigripal': ['100mg', 4, 5]}},\n",
       " {'Gastroenteritis': {'Metronidazol': ['250mg', 3, 7],\n",
       "   'suero_hidratante': ['200ml', 24, 5]}},\n",
       " {'Enfermedad de Meniere': {'diazepam': ['100mg', 2, 20],\n",
       "   'glicopirrolato': ['200mg', 1, 30]}},\n",
       " {'Sinusitis': {'aerosol': ['1puff', 6, 7], 'Corticoides': ['100mg', 1, 5]},\n",
       "  'Gastritis': {'Omeprazol': ['20mg', 1, 30]}},\n",
       " {'Covid19': {'Nirmatrelvir ': ['300mg', 2, 5], 'Ritonavir': ['100mg', 2, 5]}},\n",
       " {'Virus Sincicial': {'Aerosol1': ['2puff', 6, 5],\n",
       "   'Aerosol2': ['1puff', 1, 5],\n",
       "   'Corticoides': ['2.5ml', 1, 7]}},\n",
       " {'Herpes_Zoster': {'Aciclovir': ['800mg', 5, 7]},\n",
       "  'Gastroenteritis_Bacteriana': {'Metronidazol': ['250mg', 3, 7],\n",
       "   'Loperamida': ['4mg', 4, 5]},\n",
       "  'Dermatitis': {'Fexofenadina': ['120mg', 1, 5]}}]"
      ]
     },
     "execution_count": 137,
     "metadata": {},
     "output_type": "execute_result"
    }
   ],
   "source": [
    "# diagnóticos y tratamientos\n",
    "# {'diagnostico': {'medicina': ['cantidad mg por dosis', 'frecuencia diaria (veces al dia)', \n",
    "# 'duración del tratamiento (en dias)']}}\n",
    "\n",
    "diag1 = {'Gripe': {'antigripal':['100mg', 4, 5]}}\n",
    "diag2 = {'Gastroenteritis': {'Metronidazol': ['250mg', 3, 7], 'suero_hidratante': ['200ml', 24, 5]}}\n",
    "diag3 = {'Enfermedad de Meniere':{'diazepam': ['100mg', 2, 20] , 'glicopirrolato':['200mg', 1, 30]}}\n",
    "diag4 = {'Sinusitis': {'aerosol' : ['1puff', 6, 7], 'Corticoides':['100mg', 1, 5]}, \n",
    "         'Gastritis':{'Omeprazol': ['20mg', 1, 30]}}\n",
    "diag5 = {'Covid19': {'Nirmatrelvir ':['300mg', 2, 5], 'Ritonavir':['100mg', 2, 5]}}\n",
    "diag6 = {'Virus Sincicial':{'Aerosol1': ['2puff', 6, 5], 'Aerosol2': ['1puff', 1, 5], 'Corticoides': ['2.5ml', 1, 7]}}\n",
    "diag7 = {'Herpes_Zoster': {'Aciclovir':['800mg', 5, 7]}, \n",
    "         'Gastroenteritis_Bacteriana': {'Metronidazol': ['250mg', 3, 7], 'Loperamida': ['4mg', 4, 5]}, \n",
    "         'Dermatitis': {'Fexofenadina': ['120mg', 1, 5]}}\n",
    "\n",
    "# lista con los diagnósticos\n",
    "diags = [diag1, diag2, diag3, diag4, diag5, diag6, diag7]\n",
    "dic = diag7\n",
    "# print(keylist(dic),' - ' ,dic[keylist(dic)[2]])\n",
    "diags"
   ]
  },
  {
   "cell_type": "code",
   "execution_count": 129,
   "id": "cc17b70b",
   "metadata": {},
   "outputs": [],
   "source": [
    "# breve descripción de motivo de ingreso de pacientes\n",
    "des1 = 'desmayo. fiebre. mareos'\n",
    "des2 = 'paciente vomito varias veces mientras esperaba atencion. deshidratacion'\n",
    "des3 = 'desorientacion y mareos. vision borrosa.'\n",
    "des4 = 'dolor al respirar. dolor de espalda. dolor en las orbitas de los ojos. nauseas'\n",
    "des5 = 'presenta cuadro de deshidratacion y dificultad para respirar. temperatura 38.7'\n",
    "des6 = 'paciente de 3 años sufrio convulsiones en casa por fiebre. llega casi desmayado. deshidratación'\n",
    "des7 = 'paciente tos, vómitos y pústulas en la piel'"
   ]
  },
  {
   "cell_type": "code",
   "execution_count": 102,
   "id": "e47ac08e",
   "metadata": {},
   "outputs": [],
   "source": [
    "# (fiebre, vomitos, diarrea, dolor_muscular, dificultad_para_respirar, inapetencia)  \n",
    "p1 = Paciente('8291686-5', 'Marion', 'Hooper', '11/05/1955', 'si', 'si', 'si', 'yes', 'yes', 'si', des1)\n",
    "p2 = Paciente('13280465-6', 'Felipe', 'Sánchez', '27/03/1980', 'no', 'si', 'si', 'si', 'no', 'no', des2)\n",
    "p3 = Paciente('17396829-9', 'Marion', 'Aguilar', '03/02/1990', 'si', 'no', 'no', 'si', 'si', 'no', des3)\n",
    "p4 = Paciente('12658439-3', 'Francesca', 'Meza', '05/02/1983', 'no', 'no', 'no', 'si', 'si', 'si', des4)\n",
    "p5 = Paciente('20502458-1', 'Fernanda', 'Delgado', '04/03/1992', 'si', 'si', 'no', 'no', 'no', 'si', des5)\n",
    "p6 = Paciente('41332344-4', 'Daniel', 'Hooper', '07/02/2020', 'no', 'si', 'no', 'no', 'no', 'si', des6)\n",
    "p7 = Paciente('13109915-0', 'César', 'Hooper', '13/10/1976', 'no', 'no', 'no', 'no', 'si', 'si', des7)"
   ]
  },
  {
   "cell_type": "code",
   "execution_count": 65,
   "id": "3ebe6883",
   "metadata": {},
   "outputs": [
    {
     "data": {
      "text/plain": [
       "{'d839c9d4274c20e6951ab67e90f22386a086c196b86e508669a01c7a952a6fba': {'userID': '10c36b79-725b-40bb-9eb0-a9fb20ec7bbb',\n",
       "  'nombre': 'Fernanda',\n",
       "  'apellido': 'Delgado',\n",
       "  'fecha_nac': '04/03/1992'}}"
      ]
     },
     "execution_count": 65,
     "metadata": {},
     "output_type": "execute_result"
    }
   ],
   "source": [
    "p5.infoPaciente()"
   ]
  },
  {
   "cell_type": "code",
   "execution_count": 67,
   "id": "b27deef3",
   "metadata": {},
   "outputs": [
    {
     "data": {
      "text/plain": [
       "{'10c36b79-725b-40bb-9eb0-a9fb20ec7bbb': {'fiebre': 'sí',\n",
       "  'vomitos': 'sí',\n",
       "  'diarrea': 'no',\n",
       "  'dolor_muscular': 'no',\n",
       "  'dif.p.respirar': 'no',\n",
       "  'inapetencia': 'sí',\n",
       "  'descripcion_sintomas': 'presenta cuadro de deshidratación y dificultad para respirar. temperatura 36.7'}}"
      ]
     },
     "execution_count": 67,
     "metadata": {},
     "output_type": "execute_result"
    }
   ],
   "source": [
    "p5.motivos()"
   ]
  },
  {
   "cell_type": "code",
   "execution_count": 68,
   "id": "19be9e3b",
   "metadata": {},
   "outputs": [],
   "source": [
    "pacientes = [p1.infoPaciente(), p2.infoPaciente(), p3.infoPaciente(), p4.infoPaciente(), \n",
    "             p5.infoPaciente(), p6.infoPaciente(), p7.infoPaciente()] \n",
    "\n",
    "motivos = [p1.motivos(), p2.motivos(), p3.motivos(), p4.motivos(), p5.motivos(), p6.motivos(), p7.motivos()]"
   ]
  },
  {
   "cell_type": "code",
   "execution_count": 100,
   "id": "6c5d087e",
   "metadata": {},
   "outputs": [
    {
     "data": {
      "text/plain": [
       "{'fiebre': 'sí',\n",
       " 'vomitos': 'sí',\n",
       " 'diarrea': 'sí',\n",
       " 'dolor_muscular': 'yes',\n",
       " 'dif.p.respirar': 'yes',\n",
       " 'inapetencia': 'si',\n",
       " 'descripcion_sintomas': 'paciente se desmayó en la sala'}"
      ]
     },
     "execution_count": 100,
     "metadata": {},
     "output_type": "execute_result"
    }
   ],
   "source": [
    "pp = p1.motivos()['de944e77-48a5-4c61-beb4-5387e38ed035']\n",
    "pp"
   ]
  },
  {
   "cell_type": "code",
   "execution_count": 69,
   "id": "ef044618",
   "metadata": {},
   "outputs": [
    {
     "data": {
      "text/plain": [
       "dict_values([{'userID': '4f8902c3-f680-4053-8334-c244b4db400c', 'nombre': 'Daniel', 'apellido': 'Hooper', 'fecha_nac': '07/02/2020'}])"
      ]
     },
     "execution_count": 69,
     "metadata": {},
     "output_type": "execute_result"
    }
   ],
   "source": [
    "rut1 = '13109915-0'\n",
    "rut2 = '8291686-5'\n",
    "rut3 = '2134567-g'\n",
    "rut4 = '41332344-4'\n",
    "\n",
    "paciente =  None\n",
    "for p in pacientes:\n",
    "#     print(p.keys(), generar_hash(rut2))\n",
    "    if generar_hash(rut4) in p.keys():    \n",
    "        paciente = p\n",
    "if (paciente == None): \n",
    "    print('paciente no existe. compruebe rut')\n",
    "        \n",
    "paciente.values()"
   ]
  },
  {
   "cell_type": "code",
   "execution_count": 256,
   "id": "9b180bbd",
   "metadata": {},
   "outputs": [
    {
     "data": {
      "text/plain": [
       "True"
      ]
     },
     "execution_count": 256,
     "metadata": {},
     "output_type": "execute_result"
    }
   ],
   "source": [
    "ruts = []\n",
    "for paciente in pacientes:\n",
    "    ruts.append(paciente['rut'])\n",
    "#     print(paciente['rut'])\n",
    "\n",
    "generar_hash('13109915-0') in ruts"
   ]
  },
  {
   "cell_type": "code",
   "execution_count": 20,
   "id": "096ee593",
   "metadata": {},
   "outputs": [],
   "source": [
    "a = {'123':{'id':5, 'name':'juan'}, '234': {'name': 'pepe'}}\n"
   ]
  },
  {
   "cell_type": "code",
   "execution_count": 168,
   "id": "0deca11e",
   "metadata": {},
   "outputs": [
    {
     "data": {
      "text/plain": [
       "'{\"nombre\": \"pepe\", \"apellido\": \"soto\", \"fecha_nac\": \"12/12/92\", \"rut\": \"8291686-5\", \"motivo_ingreso\": {\"fiebre\": \"s\\\\u00ed\", \"vomitos\": \"s\\\\u00ed\", \"diarrea\": \"s\\\\u00ed\", \"dolor_muscular\": \"yes\", \"dif.p.respirar\": \"yes\", \"inapetencia\": \"si\"}}'"
      ]
     },
     "execution_count": 168,
     "metadata": {},
     "output_type": "execute_result"
    }
   ],
   "source": [
    "p1.info"
   ]
  },
  {
   "cell_type": "code",
   "execution_count": 70,
   "id": "4a79bd68",
   "metadata": {},
   "outputs": [],
   "source": [
    "# creación y llenado de DB. con la función json.dumps(array) se transforma el array en documento JSON.\n",
    "# sólo así se puede guardar en DB. para realizar la función inversa (pasar de JSON a array se usa json.loads(doc_json))\n",
    "conn = sqlite3.connect('datapacientes.db')\n",
    "c = conn.cursor()\n",
    "# insertar datos personales en tabla datospersonales de DB datapacientes\n",
    "c.execute(\"CREATE TABLE IF NOT EXISTS datospersonales (datos TEXT)\")\n",
    "for paciente in pacientes:\n",
    "    per = json.dumps(paciente)\n",
    "    c.execute(\"INSERT INTO datospersonales (datos) VALUES (?)\", (per, ))\n",
    "\n",
    "# insertar motivos de ingreso en tabla motivoingreso de DB datapacientes\n",
    "c.execute(\"CREATE TABLE IF NOT EXISTS motivoingreso (datos TEXT)\")\n",
    "for motivo in motivos:\n",
    "    mot = json.dumps(motivo)\n",
    "    c.execute('INSERT INTO motivoingreso (datos) VALUES (?)', (mot, ))\n",
    "    \n",
    "conn.commit()\n",
    "conn.close()"
   ]
  },
  {
   "cell_type": "code",
   "execution_count": 77,
   "id": "76553c10",
   "metadata": {},
   "outputs": [],
   "source": [
    "path = 'C:/Users/Cesar Hooper/Documents/STARTUP/dataset5.db'\n",
    "con = sqlite3.connect(path, check_same_thread=False)\n",
    "cur = con.cursor()\n",
    "\n",
    "\n",
    "# cur.execute(\"SELECT * FROM\")\n",
    "# rows = cur.fetchall()\n",
    "# lista = []\n",
    "# for row in rows:\n",
    "#     lista.append(row[0])\n",
    "\n",
    "cur.execute(\"SELECT datos FROM diccionario\")\n",
    "datos = cur.fetchall()"
   ]
  },
  {
   "cell_type": "code",
   "execution_count": 111,
   "id": "3e653442",
   "metadata": {},
   "outputs": [
    {
     "data": {
      "text/plain": [
       "{'userID': '50365e35-d244-4ae3-980e-48dc5550ba4a',\n",
       " 'nombre': 'César',\n",
       " 'apellido': 'Hooper',\n",
       " 'fecha_nac': '13/10/1976',\n",
       " 'rut': '42dfd70c6572a9e49cc3c8beb45195876f4b9e9c2facf0777871fc10a90d74b6',\n",
       " 'motivo_ingreso': {'fiebre': 'no',\n",
       "  'vomitos': 'no',\n",
       "  'diarrea': 'no',\n",
       "  'dolor_muscular': 'no',\n",
       "  'dif.p.respirar': 'si',\n",
       "  'inapetencia': 'si',\n",
       "  'descripcion_sintomas': 'paciente tos, pobremas para respirar y dolor de espalda'}}"
      ]
     },
     "execution_count": 111,
     "metadata": {},
     "output_type": "execute_result"
    }
   ],
   "source": [
    "\n",
    "for dato in datos:\n",
    "    dat = json.loads(dato[0])\n",
    "    if generar_hash(rut1) in dat.keys():\n",
    "        paciente = dat[generar_hash(rut1)]\n",
    "#     print(dat)\n",
    "    \n",
    "u = list(dat.values())[0]\n",
    "# u['nombre'], u['apellido'], u['motivo_ingreso']\n",
    "paciente"
   ]
  },
  {
   "cell_type": "code",
   "execution_count": 112,
   "id": "82e18898",
   "metadata": {},
   "outputs": [],
   "source": [
    "## pocedimiento para crear una tabla en una DB\n",
    "#1 crea un DB\n",
    "conn = sqlite3.connect('datatest.db')\n",
    "c = conn.cursor()\n"
   ]
  },
  {
   "cell_type": "code",
   "execution_count": 122,
   "id": "b78c04d8",
   "metadata": {},
   "outputs": [
    {
     "data": {
      "text/plain": [
       "<sqlite3.Cursor at 0x29d955d6180>"
      ]
     },
     "execution_count": 122,
     "metadata": {},
     "output_type": "execute_result"
    }
   ],
   "source": [
    "#2 crea una tabla llamada horarios dentro del  DB datatest\n",
    "create_tabla_horarios = '''\n",
    "CREATE TABLE IF NOT EXISTS usuarios (\n",
    "    id TEXT,\n",
    "    nombre TEXT,\n",
    "    edad INTEGER\n",
    ");\n",
    "'''\n",
    "\n",
    "#3 SE EJECUTA LA CREACIÓN\n",
    "c.execute(create_tabla_horarios)"
   ]
  },
  {
   "cell_type": "code",
   "execution_count": 125,
   "id": "100110bd",
   "metadata": {},
   "outputs": [],
   "source": [
    "#4 Definir la consulta SQL para insertar datos en la tabla\n",
    "insert_data_query = '''\n",
    "INSERT INTO usuarios (id, nombre, edad)\n",
    "VALUES (?, ?, ?);\n",
    "'''\n",
    "# datos para ser insertados\n",
    "datos = [(1, 'Juan', 25), (2, 'María', 30), (3, 'Pedro', 28)]\n",
    "\n",
    "#5 Ejecutar la consulta SQL para insertar los datos\n",
    "c.executemany(insert_data_query, datos)\n",
    "\n",
    "#6 Confirmar los cambios y cerrar la conexión a la base de datos\n",
    "conn.commit()\n",
    "conn.close()"
   ]
  },
  {
   "cell_type": "code",
   "execution_count": 15,
   "id": "bf7d3201",
   "metadata": {},
   "outputs": [
    {
     "ename": "ProgrammingError",
     "evalue": "Incorrect number of bindings supplied. The current statement uses 3, and there are 37 supplied.",
     "output_type": "error",
     "traceback": [
      "\u001b[1;31m---------------------------------------------------------------------------\u001b[0m",
      "\u001b[1;31mProgrammingError\u001b[0m                          Traceback (most recent call last)",
      "\u001b[1;32m<ipython-input-15-c80cf123f59b>\u001b[0m in \u001b[0;36m<module>\u001b[1;34m\u001b[0m\n\u001b[0;32m     32\u001b[0m \u001b[1;33m\u001b[0m\u001b[0m\n\u001b[0;32m     33\u001b[0m \u001b[1;31m#5 Ejecutar la consulta SQL para insertar los datos\u001b[0m\u001b[1;33m\u001b[0m\u001b[1;33m\u001b[0m\u001b[1;33m\u001b[0m\u001b[0m\n\u001b[1;32m---> 34\u001b[1;33m \u001b[0mc\u001b[0m\u001b[1;33m.\u001b[0m\u001b[0mexecutemany\u001b[0m\u001b[1;33m(\u001b[0m\u001b[0minsert_data_query\u001b[0m\u001b[1;33m,\u001b[0m \u001b[0mdatos\u001b[0m\u001b[1;33m)\u001b[0m\u001b[1;33m\u001b[0m\u001b[1;33m\u001b[0m\u001b[0m\n\u001b[0m\u001b[0;32m     35\u001b[0m \u001b[1;33m\u001b[0m\u001b[0m\n\u001b[0;32m     36\u001b[0m \u001b[1;31m#6 Confirmar los cambios y cerrar la conexión a la base de datos\u001b[0m\u001b[1;33m\u001b[0m\u001b[1;33m\u001b[0m\u001b[1;33m\u001b[0m\u001b[0m\n",
      "\u001b[1;31mProgrammingError\u001b[0m: Incorrect number of bindings supplied. The current statement uses 3, and there are 37 supplied."
     ]
    }
   ],
   "source": [
    "## pocedimiento para crear una tabla en una DB\n",
    "# este procedimiento contempla ingresar un objeto a la nueva tabla.\n",
    "# el objeto sería los horarios de las medicinas. \n",
    "# {'nombre_medicina': [horario1, horario2, horario3, etc]}\n",
    "\n",
    "#1 crea un DB\n",
    "conn = sqlite3.connect('datatest.db')\n",
    "c = conn.cursor()\n",
    "\n",
    "#2 crea una tabla llamada horarios dentro del  DB datatest\n",
    "create_tabla_medicinas = '''\n",
    "CREATE TABLE IF NOT EXISTS medicinas (\n",
    "    med1 TEXT,\n",
    "    med2 TEXT,\n",
    "    med3 TEXT\n",
    ");\n",
    "'''\n",
    "\n",
    "#3 SE EJECUTA LA CREACIÓN\n",
    "c.execute(create_tabla_medicinas)\n",
    "\n",
    "#4 Definir la consulta SQL para insertar datos en la tabla\n",
    "insert_data_query = '''\n",
    "INSERT INTO medicinas (med1, med2, med3)\n",
    "VALUES (?, ?, ?);\n",
    "'''\n",
    "med1 = json.dumps({'aspirina': ['8hr', '16hr', '00hr']})\n",
    "med2 = json.dumps({'antibiotico': ['10hr', '16hr', '22hr', '4hr']})\n",
    "med3 = json.dumps({'insulina': ['12hr', '20hr']})\n",
    "# datos para ser insertados\n",
    "datos = [med1, med2, med3]\n",
    "\n",
    "#5 Ejecutar la consulta SQL para insertar los datos\n",
    "c.executemany(insert_data_query, datos)\n",
    "\n",
    "#6 Confirmar los cambios y cerrar la conexión a la base de datos\n",
    "conn.commit()\n",
    "conn.close()\n"
   ]
  },
  {
   "cell_type": "code",
   "execution_count": 17,
   "id": "2f4c92e3",
   "metadata": {},
   "outputs": [
    {
     "data": {
      "text/plain": [
       "'{\"aspirina\": [\"8hr\", \"16hr\", \"00hr\"]}'"
      ]
     },
     "execution_count": 17,
     "metadata": {},
     "output_type": "execute_result"
    }
   ],
   "source": [
    "med1"
   ]
  },
  {
   "cell_type": "code",
   "execution_count": null,
   "id": "3950e211",
   "metadata": {},
   "outputs": [],
   "source": [
    "c.execute(\"CREATE TABLE IF NOT EXISTS horarios (id INTEGER PRIMARY KEY AUTOINCREMENT, datos TEXT)\")\n",
    "for paciente in pacientes:\n",
    "    per = json.dumps(paciente)\n",
    "    c.execute(\"INSERT INTO horarios (datos) VALUES (?)\", (per, ))\n",
    "conn.commit()\n",
    "conn.close()"
   ]
  },
  {
   "cell_type": "code",
   "execution_count": null,
   "id": "977e8f26",
   "metadata": {},
   "outputs": [],
   "source": []
  },
  {
   "cell_type": "code",
   "execution_count": null,
   "id": "b0a4e187",
   "metadata": {},
   "outputs": [],
   "source": []
  },
  {
   "cell_type": "code",
   "execution_count": null,
   "id": "296e3772",
   "metadata": {},
   "outputs": [],
   "source": []
  }
 ],
 "metadata": {
  "kernelspec": {
   "display_name": "Python 3",
   "language": "python",
   "name": "python3"
  },
  "language_info": {
   "codemirror_mode": {
    "name": "ipython",
    "version": 3
   },
   "file_extension": ".py",
   "mimetype": "text/x-python",
   "name": "python",
   "nbconvert_exporter": "python",
   "pygments_lexer": "ipython3",
   "version": "3.8.8"
  }
 },
 "nbformat": 4,
 "nbformat_minor": 5
}
